{
 "cells": [
  {
   "cell_type": "markdown",
   "metadata": {
    "tags": []
   },
   "source": [
    "# ESI for \"Understanding the Photocatalytic Activity of La5Ti2MS5O7 (M = Ag, Cu): Computational Insights\" \n"
   ]
  },
  {
   "cell_type": "code",
   "execution_count": 49,
   "metadata": {
    "tags": []
   },
   "outputs": [],
   "source": [
    "import pandas as pd\n",
    "import numpy as np \n",
    "import os\n",
    "\n",
    "# pymatgen \n",
    "from pymatgen.core import Structure\n",
    "from pymatgen.core.lattice import Lattice\n",
    "from pymatgen.io.vasp.outputs import Vasprun\n",
    "from pymatgen.io.vasp.inputs import Kpoints, Incar\n",
    "from pymatgen.core.surface import SlabGenerator, generate_all_slabs\n",
    "from pymatgen.analysis.wulff import WulffShape "
   ]
  },
  {
   "cell_type": "markdown",
   "metadata": {},
   "source": [
    "## Unit cell relaxation"
   ]
  },
  {
   "cell_type": "markdown",
   "metadata": {},
   "source": [
    "The unit cells were relaxed with the PBEsol functional, using the following POTCARs: La, Ti_sv, Ag, Cu, O, S. The following code block parses the relaxed and unrelaxed unit cells in the `bulk_structures` folder:"
   ]
  },
  {
   "cell_type": "code",
   "execution_count": 15,
   "metadata": {
    "tags": []
   },
   "outputs": [],
   "source": [
    "df_lta_list = []\n",
    "df_ltc_list = []\n",
    "for root, fols, files in os.walk('bulk_structures/'): \n",
    "    for file in files: \n",
    "        if file.endswith('.vasp') and 'LTA' in file and not 'checkpoint' in file: \n",
    "            struc = Structure.from_file('bulk_structures/{}'.format(file))\n",
    "            latt = struc.lattice\n",
    "            name = file.split('.')[0]\n",
    "            df_lta_list.append({'name': name, \n",
    "                           'spacegroup': struc.get_space_group_info(), \n",
    "                           'a': latt.a,\n",
    "                           'b': latt.b,\n",
    "                           'c': latt.c, \n",
    "                           'alpha': latt.alpha, \n",
    "                           'beta': latt.beta, \n",
    "                           'gamma': latt.gamma})\n",
    "        elif file.endswith('vasp') and not 'checkpoint' in file: \n",
    "            struc = Structure.from_file('bulk_structures/{}'.format(file))\n",
    "            latt = struc.lattice\n",
    "            name = file.split('.')[0]\n",
    "            df_ltc_list.append({'name': name, \n",
    "                           'spacegroup': struc.get_space_group_info(symprec=1e-5), \n",
    "                           'a': latt.a,\n",
    "                           'b': latt.b,\n",
    "                           'c': latt.c, \n",
    "                           'alpha': latt.alpha, \n",
    "                           'beta': latt.beta, \n",
    "                           'gamma': latt.gamma})\n",
    "\n",
    "lta_structures = pd.DataFrame(df_lta_list)\n",
    "ltc_structures = pd.DataFrame(df_ltc_list)"
   ]
  },
  {
   "cell_type": "markdown",
   "metadata": {},
   "source": []
  },
  {
   "cell_type": "code",
   "execution_count": 16,
   "metadata": {},
   "outputs": [
    {
     "data": {
      "text/html": [
       "<div>\n",
       "<style scoped>\n",
       "    .dataframe tbody tr th:only-of-type {\n",
       "        vertical-align: middle;\n",
       "    }\n",
       "\n",
       "    .dataframe tbody tr th {\n",
       "        vertical-align: top;\n",
       "    }\n",
       "\n",
       "    .dataframe thead th {\n",
       "        text-align: right;\n",
       "    }\n",
       "</style>\n",
       "<table border=\"1\" class=\"dataframe\">\n",
       "  <thead>\n",
       "    <tr style=\"text-align: right;\">\n",
       "      <th></th>\n",
       "      <th>name</th>\n",
       "      <th>spacegroup</th>\n",
       "      <th>a</th>\n",
       "      <th>b</th>\n",
       "      <th>c</th>\n",
       "      <th>alpha</th>\n",
       "      <th>beta</th>\n",
       "      <th>gamma</th>\n",
       "    </tr>\n",
       "  </thead>\n",
       "  <tbody>\n",
       "    <tr>\n",
       "      <th>0</th>\n",
       "      <td>POSCAR_LTA</td>\n",
       "      <td>(Pnma, 62)</td>\n",
       "      <td>19.593000</td>\n",
       "      <td>3.9963</td>\n",
       "      <td>18.297300</td>\n",
       "      <td>90.0</td>\n",
       "      <td>90.000000</td>\n",
       "      <td>90.0</td>\n",
       "    </tr>\n",
       "    <tr>\n",
       "      <th>1</th>\n",
       "      <td>CONTCAR_LTA_pbesol</td>\n",
       "      <td>(Pnma, 62)</td>\n",
       "      <td>19.381413</td>\n",
       "      <td>3.9349</td>\n",
       "      <td>18.101826</td>\n",
       "      <td>90.0</td>\n",
       "      <td>89.999992</td>\n",
       "      <td>90.0</td>\n",
       "    </tr>\n",
       "  </tbody>\n",
       "</table>\n",
       "</div>"
      ],
      "text/plain": [
       "                 name  spacegroup          a       b          c  alpha  \\\n",
       "0          POSCAR_LTA  (Pnma, 62)  19.593000  3.9963  18.297300   90.0   \n",
       "1  CONTCAR_LTA_pbesol  (Pnma, 62)  19.381413  3.9349  18.101826   90.0   \n",
       "\n",
       "        beta  gamma  \n",
       "0  90.000000   90.0  \n",
       "1  89.999992   90.0  "
      ]
     },
     "execution_count": 16,
     "metadata": {},
     "output_type": "execute_result"
    }
   ],
   "source": [
    "lta_structures"
   ]
  },
  {
   "cell_type": "code",
   "execution_count": 17,
   "metadata": {},
   "outputs": [
    {
     "data": {
      "text/html": [
       "<div>\n",
       "<style scoped>\n",
       "    .dataframe tbody tr th:only-of-type {\n",
       "        vertical-align: middle;\n",
       "    }\n",
       "\n",
       "    .dataframe tbody tr th {\n",
       "        vertical-align: top;\n",
       "    }\n",
       "\n",
       "    .dataframe thead th {\n",
       "        text-align: right;\n",
       "    }\n",
       "</style>\n",
       "<table border=\"1\" class=\"dataframe\">\n",
       "  <thead>\n",
       "    <tr style=\"text-align: right;\">\n",
       "      <th></th>\n",
       "      <th>name</th>\n",
       "      <th>spacegroup</th>\n",
       "      <th>a</th>\n",
       "      <th>b</th>\n",
       "      <th>c</th>\n",
       "      <th>alpha</th>\n",
       "      <th>beta</th>\n",
       "      <th>gamma</th>\n",
       "    </tr>\n",
       "  </thead>\n",
       "  <tbody>\n",
       "    <tr>\n",
       "      <th>0</th>\n",
       "      <td>CONTCAR_LTC_Pnma_pbesol</td>\n",
       "      <td>(Pnma, 62)</td>\n",
       "      <td>19.253580</td>\n",
       "      <td>3.925413</td>\n",
       "      <td>17.973631</td>\n",
       "      <td>90.000000</td>\n",
       "      <td>90.000000</td>\n",
       "      <td>90.000000</td>\n",
       "    </tr>\n",
       "    <tr>\n",
       "      <th>1</th>\n",
       "      <td>POSCAR_LTC</td>\n",
       "      <td>(Pnma, 62)</td>\n",
       "      <td>19.423000</td>\n",
       "      <td>3.979300</td>\n",
       "      <td>18.119101</td>\n",
       "      <td>90.000000</td>\n",
       "      <td>90.000000</td>\n",
       "      <td>90.000000</td>\n",
       "    </tr>\n",
       "    <tr>\n",
       "      <th>2</th>\n",
       "      <td>CONTCAR_LTC_P1_pbesol</td>\n",
       "      <td>(P1, 1)</td>\n",
       "      <td>19.256252</td>\n",
       "      <td>3.925551</td>\n",
       "      <td>17.976881</td>\n",
       "      <td>89.999977</td>\n",
       "      <td>90.000267</td>\n",
       "      <td>89.999962</td>\n",
       "    </tr>\n",
       "  </tbody>\n",
       "</table>\n",
       "</div>"
      ],
      "text/plain": [
       "                      name  spacegroup          a         b          c  \\\n",
       "0  CONTCAR_LTC_Pnma_pbesol  (Pnma, 62)  19.253580  3.925413  17.973631   \n",
       "1               POSCAR_LTC  (Pnma, 62)  19.423000  3.979300  18.119101   \n",
       "2    CONTCAR_LTC_P1_pbesol     (P1, 1)  19.256252  3.925551  17.976881   \n",
       "\n",
       "       alpha       beta      gamma  \n",
       "0  90.000000  90.000000  90.000000  \n",
       "1  90.000000  90.000000  90.000000  \n",
       "2  89.999977  90.000267  89.999962  "
      ]
     },
     "execution_count": 17,
     "metadata": {},
     "output_type": "execute_result"
    }
   ],
   "source": [
    "ltc_structures"
   ]
  },
  {
   "cell_type": "markdown",
   "metadata": {},
   "source": [
    "## Creation of surface slabs\n",
    "[surfaxe](https://doi.org/10.21105/joss.03171) was developed to automate the generation of surface slabs. The following shows how the slabs were created for LTA but the same scripts were used for LTC, with same Miller indices present as the systems are isostructural. "
   ]
  },
  {
   "cell_type": "code",
   "execution_count": 20,
   "metadata": {},
   "outputs": [],
   "source": [
    "conventional_LTA = Structure.from_file('bulk_structures/CONTCAR_LTA_pbesol.vasp')\n",
    "conventional_LTA.add_oxidation_state_by_guess()\n",
    "slabgen = generate_all_slabs(conventional_LTA, 2, 10, 10)"
   ]
  },
  {
   "cell_type": "markdown",
   "metadata": {},
   "source": [
    "From all the slabs generated up to a maximum Miller index of 2, these are the terminations with zero dipole and inversion (Laue) symmetry: "
   ]
  },
  {
   "cell_type": "code",
   "execution_count": 27,
   "metadata": {},
   "outputs": [
    {
     "data": {
      "text/plain": [
       "[(0, 1, 0),\n",
       " (0, 1, 1),\n",
       " (1, 0, 0),\n",
       " (1, 0, 1),\n",
       " (1, 0, 1),\n",
       " (1, 0, 2),\n",
       " (1, 1, 0),\n",
       " (1, 1, 2),\n",
       " (1, 2, 2),\n",
       " (2, 0, 1),\n",
       " (2, 1, 1),\n",
       " (2, 1, 2)]"
      ]
     },
     "execution_count": 27,
     "metadata": {},
     "output_type": "execute_result"
    }
   ],
   "source": [
    "possible_slabs = []\n",
    "for slab in slabgen: \n",
    "    if slab.is_symmetric() and not slab.is_polar(): \n",
    "        possible_slabs.append(slab.miller_index)\n",
    "\n",
    "possible_slabs.sort()\n",
    "possible_slabs"
   ]
  },
  {
   "cell_type": "markdown",
   "metadata": {},
   "source": [
    "We also investigated the (001) surface even though it only contained mirror symmetry as it was experimentally observed in selected area electron diffraction patterns. \n",
    "\n",
    "For the (101) surface where two symmetric, zero dipole terminations occured only the lowest energy surface was studied. \n"
   ]
  },
  {
   "cell_type": "markdown",
   "metadata": {},
   "source": [
    "## Surface relaxation \n",
    "\n",
    "The same INCAR template was used for slab relaxations with addition of `AMIN=0.01` and `LREAL=Auto` to account for large unit cell size. The structures of all unrelaxed and relaxed slabs are in the `surface_slabs` folder. \n",
    "\n",
    "The reciprocal space sampling was kept consistent between bulk and slab - see surface energy  tables below \n"
   ]
  },
  {
   "cell_type": "markdown",
   "metadata": {},
   "source": [
    "## Surface energies\n",
    "Surface energy, $\\gamma$, is calculated from: \n",
    "\n",
    "$\\gamma = \\frac{E_{slab} - N E_{bulk}}{2A}$\n",
    "\n",
    "where $E_{slab}$ is the total energy of the slab, $N$ is the number of atoms in the slab, $E_{bulk}$ is the total bulk energy per atom and $A$ is the area of the slab. \n",
    "\n",
    "For LTA $E_{bulk} =$ -8.011 eV / atom\n",
    "\n",
    "For LTC $E_{bulk} =$ -8.078 eV / atom\n",
    "\n",
    "The following surface energies are calculated from energies of PBEsol-relaxed slabs. "
   ]
  },
  {
   "cell_type": "code",
   "execution_count": 39,
   "metadata": {},
   "outputs": [],
   "source": [
    "LTA_surface_energies = pd.read_csv('LTA_surface_energies.csv')"
   ]
  },
  {
   "cell_type": "code",
   "execution_count": 40,
   "metadata": {},
   "outputs": [
    {
     "data": {
      "text/html": [
       "<div>\n",
       "<style scoped>\n",
       "    .dataframe tbody tr th:only-of-type {\n",
       "        vertical-align: middle;\n",
       "    }\n",
       "\n",
       "    .dataframe tbody tr th {\n",
       "        vertical-align: top;\n",
       "    }\n",
       "\n",
       "    .dataframe thead th {\n",
       "        text-align: right;\n",
       "    }\n",
       "</style>\n",
       "<table border=\"1\" class=\"dataframe\">\n",
       "  <thead>\n",
       "    <tr style=\"text-align: right;\">\n",
       "      <th></th>\n",
       "      <th>hkl</th>\n",
       "      <th>kpoints</th>\n",
       "      <th>atoms</th>\n",
       "      <th>area</th>\n",
       "      <th>total_energy</th>\n",
       "      <th>surface_energy</th>\n",
       "    </tr>\n",
       "  </thead>\n",
       "  <tbody>\n",
       "    <tr>\n",
       "      <th>0</th>\n",
       "      <td>(001)</td>\n",
       "      <td>5x1x1</td>\n",
       "      <td>160</td>\n",
       "      <td>76.26</td>\n",
       "      <td>-1269.98</td>\n",
       "      <td>1.244</td>\n",
       "    </tr>\n",
       "    <tr>\n",
       "      <th>1</th>\n",
       "      <td>(010)</td>\n",
       "      <td>1x1x1</td>\n",
       "      <td>240</td>\n",
       "      <td>350.84</td>\n",
       "      <td>-1881.97</td>\n",
       "      <td>0.931</td>\n",
       "    </tr>\n",
       "    <tr>\n",
       "      <th>2</th>\n",
       "      <td>(011)</td>\n",
       "      <td>1x1x1</td>\n",
       "      <td>240</td>\n",
       "      <td>359.03</td>\n",
       "      <td>-1870.37</td>\n",
       "      <td>1.168</td>\n",
       "    </tr>\n",
       "    <tr>\n",
       "      <th>3</th>\n",
       "      <td>(100)</td>\n",
       "      <td>5x1x1</td>\n",
       "      <td>160</td>\n",
       "      <td>71.23</td>\n",
       "      <td>-1274.69</td>\n",
       "      <td>0.801</td>\n",
       "    </tr>\n",
       "    <tr>\n",
       "      <th>4</th>\n",
       "      <td>(101)</td>\n",
       "      <td>5x1x1</td>\n",
       "      <td>160</td>\n",
       "      <td>104.35</td>\n",
       "      <td>-1271.17</td>\n",
       "      <td>0.817</td>\n",
       "    </tr>\n",
       "    <tr>\n",
       "      <th>5</th>\n",
       "      <td>(102)</td>\n",
       "      <td>5x1x1</td>\n",
       "      <td>480</td>\n",
       "      <td>168.34</td>\n",
       "      <td>-3827.25</td>\n",
       "      <td>0.866</td>\n",
       "    </tr>\n",
       "    <tr>\n",
       "      <th>6</th>\n",
       "      <td>(110)</td>\n",
       "      <td>1x1x1</td>\n",
       "      <td>240</td>\n",
       "      <td>358.00</td>\n",
       "      <td>-1880.15</td>\n",
       "      <td>0.953</td>\n",
       "    </tr>\n",
       "    <tr>\n",
       "      <th>7</th>\n",
       "      <td>(112)</td>\n",
       "      <td>1x1x1</td>\n",
       "      <td>480</td>\n",
       "      <td>389.14</td>\n",
       "      <td>-3793.49</td>\n",
       "      <td>1.070</td>\n",
       "    </tr>\n",
       "    <tr>\n",
       "      <th>8</th>\n",
       "      <td>(122)</td>\n",
       "      <td>1x1x1</td>\n",
       "      <td>640</td>\n",
       "      <td>721.59</td>\n",
       "      <td>-5025.79</td>\n",
       "      <td>1.127</td>\n",
       "    </tr>\n",
       "    <tr>\n",
       "      <th>9</th>\n",
       "      <td>(201)</td>\n",
       "      <td>5x1x1</td>\n",
       "      <td>320</td>\n",
       "      <td>161.59</td>\n",
       "      <td>-2533.46</td>\n",
       "      <td>1.496</td>\n",
       "    </tr>\n",
       "    <tr>\n",
       "      <th>10</th>\n",
       "      <td>(211)</td>\n",
       "      <td>1x1x1</td>\n",
       "      <td>480</td>\n",
       "      <td>386.26</td>\n",
       "      <td>-3794.13</td>\n",
       "      <td>1.064</td>\n",
       "    </tr>\n",
       "    <tr>\n",
       "      <th>11</th>\n",
       "      <td>(212)</td>\n",
       "      <td>1x1x1</td>\n",
       "      <td>480</td>\n",
       "      <td>408.22</td>\n",
       "      <td>-3784.64</td>\n",
       "      <td>1.193</td>\n",
       "    </tr>\n",
       "  </tbody>\n",
       "</table>\n",
       "</div>"
      ],
      "text/plain": [
       "      hkl kpoints  atoms    area  total_energy  surface_energy\n",
       "0   (001)   5x1x1    160   76.26      -1269.98           1.244\n",
       "1   (010)   1x1x1    240  350.84      -1881.97           0.931\n",
       "2   (011)   1x1x1    240  359.03      -1870.37           1.168\n",
       "3   (100)   5x1x1    160   71.23      -1274.69           0.801\n",
       "4   (101)   5x1x1    160  104.35      -1271.17           0.817\n",
       "5   (102)   5x1x1    480  168.34      -3827.25           0.866\n",
       "6   (110)   1x1x1    240  358.00      -1880.15           0.953\n",
       "7   (112)   1x1x1    480  389.14      -3793.49           1.070\n",
       "8   (122)   1x1x1    640  721.59      -5025.79           1.127\n",
       "9   (201)   5x1x1    320  161.59      -2533.46           1.496\n",
       "10  (211)   1x1x1    480  386.26      -3794.13           1.064\n",
       "11  (212)   1x1x1    480  408.22      -3784.64           1.193"
      ]
     },
     "execution_count": 40,
     "metadata": {},
     "output_type": "execute_result"
    }
   ],
   "source": [
    "LTA_surface_energies"
   ]
  },
  {
   "cell_type": "code",
   "execution_count": 47,
   "metadata": {},
   "outputs": [],
   "source": [
    "LTC_surface_energies = pd.read_csv('LTC_surface_energies.csv')"
   ]
  },
  {
   "cell_type": "code",
   "execution_count": 48,
   "metadata": {},
   "outputs": [
    {
     "data": {
      "text/html": [
       "<div>\n",
       "<style scoped>\n",
       "    .dataframe tbody tr th:only-of-type {\n",
       "        vertical-align: middle;\n",
       "    }\n",
       "\n",
       "    .dataframe tbody tr th {\n",
       "        vertical-align: top;\n",
       "    }\n",
       "\n",
       "    .dataframe thead th {\n",
       "        text-align: right;\n",
       "    }\n",
       "</style>\n",
       "<table border=\"1\" class=\"dataframe\">\n",
       "  <thead>\n",
       "    <tr style=\"text-align: right;\">\n",
       "      <th></th>\n",
       "      <th>hkl</th>\n",
       "      <th>kpoints</th>\n",
       "      <th>atoms</th>\n",
       "      <th>area</th>\n",
       "      <th>total_energy</th>\n",
       "      <th>surface_energy</th>\n",
       "    </tr>\n",
       "  </thead>\n",
       "  <tbody>\n",
       "    <tr>\n",
       "      <th>0</th>\n",
       "      <td>(001)</td>\n",
       "      <td>5x1x1</td>\n",
       "      <td>160</td>\n",
       "      <td>75.59</td>\n",
       "      <td>-1281.15</td>\n",
       "      <td>1.207</td>\n",
       "    </tr>\n",
       "    <tr>\n",
       "      <th>1</th>\n",
       "      <td>(010)</td>\n",
       "      <td>1x1x1</td>\n",
       "      <td>240</td>\n",
       "      <td>346.17</td>\n",
       "      <td>-1897.99</td>\n",
       "      <td>0.944</td>\n",
       "    </tr>\n",
       "    <tr>\n",
       "      <th>2</th>\n",
       "      <td>(011)</td>\n",
       "      <td>1x1x1</td>\n",
       "      <td>240</td>\n",
       "      <td>354.32</td>\n",
       "      <td>-1890.41</td>\n",
       "      <td>1.094</td>\n",
       "    </tr>\n",
       "    <tr>\n",
       "      <th>3</th>\n",
       "      <td>(100)</td>\n",
       "      <td>5x1x1</td>\n",
       "      <td>160</td>\n",
       "      <td>70.57</td>\n",
       "      <td>-1285.58</td>\n",
       "      <td>0.790</td>\n",
       "    </tr>\n",
       "    <tr>\n",
       "      <th>4</th>\n",
       "      <td>(101)</td>\n",
       "      <td>5x1x1</td>\n",
       "      <td>160</td>\n",
       "      <td>103.41</td>\n",
       "      <td>-1281.45</td>\n",
       "      <td>0.859</td>\n",
       "    </tr>\n",
       "    <tr>\n",
       "      <th>5</th>\n",
       "      <td>(102)</td>\n",
       "      <td>5x1x1</td>\n",
       "      <td>480</td>\n",
       "      <td>166.84</td>\n",
       "      <td>-3858.71</td>\n",
       "      <td>0.908</td>\n",
       "    </tr>\n",
       "    <tr>\n",
       "      <th>6</th>\n",
       "      <td>(110)</td>\n",
       "      <td>1x1x1</td>\n",
       "      <td>240</td>\n",
       "      <td>353.29</td>\n",
       "      <td>-1894.50</td>\n",
       "      <td>1.004</td>\n",
       "    </tr>\n",
       "    <tr>\n",
       "      <th>7</th>\n",
       "      <td>(112)</td>\n",
       "      <td>1x1x1</td>\n",
       "      <td>480</td>\n",
       "      <td>384.28</td>\n",
       "      <td>-3825.65</td>\n",
       "      <td>1.083</td>\n",
       "    </tr>\n",
       "    <tr>\n",
       "      <th>8</th>\n",
       "      <td>(122)</td>\n",
       "      <td>1x1x1</td>\n",
       "      <td>640</td>\n",
       "      <td>712.15</td>\n",
       "      <td>-5067.91</td>\n",
       "      <td>1.150</td>\n",
       "    </tr>\n",
       "    <tr>\n",
       "      <th>9</th>\n",
       "      <td>(201)</td>\n",
       "      <td>5x1x1</td>\n",
       "      <td>320</td>\n",
       "      <td>160.11</td>\n",
       "      <td>-2553.69</td>\n",
       "      <td>1.570</td>\n",
       "    </tr>\n",
       "    <tr>\n",
       "      <th>10</th>\n",
       "      <td>(211)</td>\n",
       "      <td>1x1x1</td>\n",
       "      <td>480</td>\n",
       "      <td>381.38</td>\n",
       "      <td>-3825.42</td>\n",
       "      <td>1.096</td>\n",
       "    </tr>\n",
       "    <tr>\n",
       "      <th>11</th>\n",
       "      <td>(212)</td>\n",
       "      <td>1x1x1</td>\n",
       "      <td>480</td>\n",
       "      <td>403.25</td>\n",
       "      <td>-3808.56</td>\n",
       "      <td>1.372</td>\n",
       "    </tr>\n",
       "  </tbody>\n",
       "</table>\n",
       "</div>"
      ],
      "text/plain": [
       "      hkl kpoints  atoms    area  total_energy  surface_energy\n",
       "0   (001)   5x1x1    160   75.59      -1281.15           1.207\n",
       "1   (010)   1x1x1    240  346.17      -1897.99           0.944\n",
       "2   (011)   1x1x1    240  354.32      -1890.41           1.094\n",
       "3   (100)   5x1x1    160   70.57      -1285.58           0.790\n",
       "4   (101)   5x1x1    160  103.41      -1281.45           0.859\n",
       "5   (102)   5x1x1    480  166.84      -3858.71           0.908\n",
       "6   (110)   1x1x1    240  353.29      -1894.50           1.004\n",
       "7   (112)   1x1x1    480  384.28      -3825.65           1.083\n",
       "8   (122)   1x1x1    640  712.15      -5067.91           1.150\n",
       "9   (201)   5x1x1    320  160.11      -2553.69           1.570\n",
       "10  (211)   1x1x1    480  381.38      -3825.42           1.096\n",
       "11  (212)   1x1x1    480  403.25      -3808.56           1.372"
      ]
     },
     "execution_count": 48,
     "metadata": {},
     "output_type": "execute_result"
    }
   ],
   "source": [
    "LTC_surface_energies"
   ]
  },
  {
   "cell_type": "markdown",
   "metadata": {},
   "source": [
    "## Wulff constructions\n",
    "\n",
    "These are created using `pymatgen.analysis.wulff` module "
   ]
  },
  {
   "cell_type": "code",
   "execution_count": 55,
   "metadata": {},
   "outputs": [],
   "source": [
    "lattice_LTA = Structure.from_file('bulk_structures/CONTCAR_LTA_pbesol.vasp').lattice\n",
    "lattice_LTC = Structure.from_file('bulk_structures/CONTCAR_LTC_P1_pbesol.vasp').lattice\n",
    "\n",
    "surfen_LTA = LTA_surface_energies['surface_energy'].to_list()\n",
    "surfen_LTC = LTC_surface_energies['surface_energy'].to_list()\n",
    "\n",
    "hkl_list = [(0,0,1),(0,1,0),(0,1,1),(1,0,0),(1,0,1),(1,0,2),(1,1,0),(1,-1,2),(1,2,2),(2,0,1),(-2,1,1),(2,1,2)]\n",
    "\n"
   ]
  },
  {
   "cell_type": "code",
   "execution_count": 56,
   "metadata": {},
   "outputs": [
    {
     "data": {
      "image/png": "[encoded data removed]",
      "text/plain": [
       "<Figure size 576x576 with 1 Axes>"
      ]
     },
     "metadata": {},
     "output_type": "display_data"
    }
   ],
   "source": [
    "wulff_LTA = WulffShape(lattice_LTA, hkl_list, surfen_LTA)\n",
    "plot = wulff_LTA.get_plot(color_set='Reds',direction=(1,5.5,-0.2))"
   ]
  },
  {
   "cell_type": "code",
   "execution_count": 62,
   "metadata": {},
   "outputs": [
    {
     "name": "stdout",
     "output_type": "stream",
     "text": [
      "anisotropy: 0.103\n",
      "shape factor: 5.357\n",
      "weighted surface energy: 0.886 \n",
      "\n",
      "fractional area covered by each Miller index:\n"
     ]
    },
    {
     "data": {
      "text/plain": [
       "{(0, 0, 1): 0.0,\n",
       " (0, 1, 0): 0.06577417548312552,\n",
       " (0, 1, 1): 0.0,\n",
       " (1, 0, 0): 0.1758082395765642,\n",
       " (1, 0, 1): 0.2928665289688184,\n",
       " (1, 0, 2): 0.17613249364298472,\n",
       " (1, 1, 0): 0.1444052528944995,\n",
       " (1, -1, 2): 0.10587106728775379,\n",
       " (1, 2, 2): 0.0,\n",
       " (2, 0, 1): 0.0,\n",
       " (-2, 1, 1): 0.03914224214625404,\n",
       " (2, 1, 2): 0.0}"
      ]
     },
     "execution_count": 62,
     "metadata": {},
     "output_type": "execute_result"
    }
   ],
   "source": [
    "print(\"anisotropy: %.3f\" %(wulff_LTA.anisotropy))\n",
    "print(\"shape factor: %.3f\" %(wulff_LTA.shape_factor))\n",
    "print(\"weighted surface energy: %.3f \\n\" %(wulff_LTA.weighted_surface_energy))\n",
    "print('fractional area covered by each Miller index:')\n",
    "wulff_LTA.area_fraction_dict"
   ]
  },
  {
   "cell_type": "code",
   "execution_count": 58,
   "metadata": {},
   "outputs": [
    {
     "data": {
      "image/png": "[encoded data removed]",
      "text/plain": [
       "<Figure size 576x576 with 1 Axes>"
      ]
     },
     "metadata": {},
     "output_type": "display_data"
    }
   ],
   "source": [
    "wulff_LTC = WulffShape(lattice_LTC, hkl_list, surfen_LTC)\n",
    "plot = wulff_LTC.get_plot(color_set='Blues',direction=(1,5.5,-0.2))"
   ]
  },
  {
   "cell_type": "code",
   "execution_count": 63,
   "metadata": {},
   "outputs": [
    {
     "name": "stdout",
     "output_type": "stream",
     "text": [
      "anisotropy: 0.110\n",
      "shape factor: 5.347\n",
      "weighted surface energy: 0.914 \n",
      "\n",
      "fractional area covered by each Miller index:\n"
     ]
    },
    {
     "data": {
      "text/plain": [
       "{(0, 0, 1): 0.0,\n",
       " (0, 1, 0): 0.11122909010757123,\n",
       " (0, 1, 1): 0.0,\n",
       " (1, 0, 0): 0.20596351870190255,\n",
       " (1, 0, 1): 0.2574544053446218,\n",
       " (1, 0, 2): 0.17632699201553137,\n",
       " (1, 1, 0): 0.06327952409646145,\n",
       " (1, -1, 2): 0.13587705249805707,\n",
       " (1, 2, 2): 0.0,\n",
       " (2, 0, 1): 0.0,\n",
       " (-2, 1, 1): 0.049869417235854564,\n",
       " (2, 1, 2): 0.0}"
      ]
     },
     "execution_count": 63,
     "metadata": {},
     "output_type": "execute_result"
    }
   ],
   "source": [
    "print(\"anisotropy: %.3f\" %(wulff_LTC.anisotropy))\n",
    "print(\"shape factor: %.3f\" %(wulff_LTC.shape_factor))\n",
    "print(\"weighted surface energy: %.3f \\n\" %(wulff_LTC.weighted_surface_energy))\n",
    "print('fractional area covered by each Miller index:')\n",
    "wulff_LTC.area_fraction_dict"
   ]
  },
  {
   "cell_type": "markdown",
   "metadata": {},
   "source": [
    "## Band alignment\n",
    "\n",
    "Ionisation potential (IP) and electron affinity (EA) were calculated from: \n",
    "\n",
    "$IP = (E_{slab,vac}-E_{slab,core}) - (E_{bulk,VBM} - E_{bulk,core})$\n",
    "\n",
    "$EA = IP - E_g$\n",
    "\n",
    "where $E_{slab,vac}$ is the potential of vacuum in the slab, $E_{slab,core}$ is the core level in the slab (taken from the bulk-like region), $E_{bulk,VBM}$ is the valence band maximum energy of the bulk and $E_{bulk,core}$ is the core level in the bulk. Surface band gap ($E_g$ was taken to be the difference between the highest energy occupied and lowest energy unoccupied bands in the DOS of the slabs. \n",
    "\n",
    "LTA bulk energies: \n",
    "\n",
    "- $E_{core}$ = -61.854 eV, 1s energy of O(62)\n",
    "\n",
    "- $E_{VBM}$ = 6.132 eV \n",
    "\n",
    "LTC bulk energies:\n",
    "\n",
    "- $E_{core}$ = -61.031 eV, 1s energy of O(59)\n",
    "\n",
    "- $E_{VBM}$ = 6.323 eV \n",
    "\n",
    "As band alignment was calculated from hybrid HSE06 calculateions, only the surfaces that actually appeared on the Wulff construction were examined. The calculated IP and EA are below, while the actual band alignment diagrams were drawn with [bapt](https://github.com/utf/bapt) "
   ]
  },
  {
   "cell_type": "code",
   "execution_count": 66,
   "metadata": {},
   "outputs": [
    {
     "data": {
      "text/html": [
       "<div>\n",
       "<style scoped>\n",
       "    .dataframe tbody tr th:only-of-type {\n",
       "        vertical-align: middle;\n",
       "    }\n",
       "\n",
       "    .dataframe tbody tr th {\n",
       "        vertical-align: top;\n",
       "    }\n",
       "\n",
       "    .dataframe thead th {\n",
       "        text-align: right;\n",
       "    }\n",
       "</style>\n",
       "<table border=\"1\" class=\"dataframe\">\n",
       "  <thead>\n",
       "    <tr style=\"text-align: right;\">\n",
       "      <th></th>\n",
       "      <th>hkl</th>\n",
       "      <th>bandgap</th>\n",
       "      <th>IP</th>\n",
       "      <th>EA</th>\n",
       "    </tr>\n",
       "  </thead>\n",
       "  <tbody>\n",
       "    <tr>\n",
       "      <th>0</th>\n",
       "      <td>(010)</td>\n",
       "      <td>2.635</td>\n",
       "      <td>5.6326</td>\n",
       "      <td>2.9976</td>\n",
       "    </tr>\n",
       "    <tr>\n",
       "      <th>1</th>\n",
       "      <td>(100)</td>\n",
       "      <td>1.759</td>\n",
       "      <td>6.1996</td>\n",
       "      <td>4.4406</td>\n",
       "    </tr>\n",
       "    <tr>\n",
       "      <th>2</th>\n",
       "      <td>(101)</td>\n",
       "      <td>0.887</td>\n",
       "      <td>5.9575</td>\n",
       "      <td>5.0705</td>\n",
       "    </tr>\n",
       "    <tr>\n",
       "      <th>3</th>\n",
       "      <td>(102)</td>\n",
       "      <td>0.372</td>\n",
       "      <td>6.9391</td>\n",
       "      <td>6.5671</td>\n",
       "    </tr>\n",
       "    <tr>\n",
       "      <th>4</th>\n",
       "      <td>(110)</td>\n",
       "      <td>2.472</td>\n",
       "      <td>5.7242</td>\n",
       "      <td>3.2522</td>\n",
       "    </tr>\n",
       "    <tr>\n",
       "      <th>5</th>\n",
       "      <td>(112)</td>\n",
       "      <td>1.558</td>\n",
       "      <td>6.9134</td>\n",
       "      <td>5.3554</td>\n",
       "    </tr>\n",
       "    <tr>\n",
       "      <th>6</th>\n",
       "      <td>(211)</td>\n",
       "      <td>2.481</td>\n",
       "      <td>5.8870</td>\n",
       "      <td>3.4060</td>\n",
       "    </tr>\n",
       "  </tbody>\n",
       "</table>\n",
       "</div>"
      ],
      "text/plain": [
       "     hkl  bandgap      IP      EA\n",
       "0  (010)    2.635  5.6326  2.9976\n",
       "1  (100)    1.759  6.1996  4.4406\n",
       "2  (101)    0.887  5.9575  5.0705\n",
       "3  (102)    0.372  6.9391  6.5671\n",
       "4  (110)    2.472  5.7242  3.2522\n",
       "5  (112)    1.558  6.9134  5.3554\n",
       "6  (211)    2.481  5.8870  3.4060"
      ]
     },
     "execution_count": 66,
     "metadata": {},
     "output_type": "execute_result"
    }
   ],
   "source": [
    "LTA_ipea = pd.read_csv('LTA_IP_EA.csv')\n",
    "LTA_ipea"
   ]
  },
  {
   "cell_type": "code",
   "execution_count": 67,
   "metadata": {},
   "outputs": [
    {
     "data": {
      "text/html": [
       "<div>\n",
       "<style scoped>\n",
       "    .dataframe tbody tr th:only-of-type {\n",
       "        vertical-align: middle;\n",
       "    }\n",
       "\n",
       "    .dataframe tbody tr th {\n",
       "        vertical-align: top;\n",
       "    }\n",
       "\n",
       "    .dataframe thead th {\n",
       "        text-align: right;\n",
       "    }\n",
       "</style>\n",
       "<table border=\"1\" class=\"dataframe\">\n",
       "  <thead>\n",
       "    <tr style=\"text-align: right;\">\n",
       "      <th></th>\n",
       "      <th>hkl</th>\n",
       "      <th>bandgap</th>\n",
       "      <th>IP</th>\n",
       "      <th>EA</th>\n",
       "    </tr>\n",
       "  </thead>\n",
       "  <tbody>\n",
       "    <tr>\n",
       "      <th>0</th>\n",
       "      <td>(010)</td>\n",
       "      <td>2.858</td>\n",
       "      <td>4.9292</td>\n",
       "      <td>2.0712</td>\n",
       "    </tr>\n",
       "    <tr>\n",
       "      <th>1</th>\n",
       "      <td>(100)</td>\n",
       "      <td>1.687</td>\n",
       "      <td>5.7898</td>\n",
       "      <td>4.1028</td>\n",
       "    </tr>\n",
       "    <tr>\n",
       "      <th>2</th>\n",
       "      <td>(101)</td>\n",
       "      <td>1.207</td>\n",
       "      <td>5.4068</td>\n",
       "      <td>4.1998</td>\n",
       "    </tr>\n",
       "    <tr>\n",
       "      <th>3</th>\n",
       "      <td>(102)</td>\n",
       "      <td>0.050</td>\n",
       "      <td>5.7843</td>\n",
       "      <td>5.7343</td>\n",
       "    </tr>\n",
       "    <tr>\n",
       "      <th>4</th>\n",
       "      <td>(110)</td>\n",
       "      <td>2.430</td>\n",
       "      <td>5.0702</td>\n",
       "      <td>2.6402</td>\n",
       "    </tr>\n",
       "    <tr>\n",
       "      <th>5</th>\n",
       "      <td>(112)</td>\n",
       "      <td>1.802</td>\n",
       "      <td>5.7453</td>\n",
       "      <td>3.9433</td>\n",
       "    </tr>\n",
       "    <tr>\n",
       "      <th>6</th>\n",
       "      <td>(211)</td>\n",
       "      <td>2.565</td>\n",
       "      <td>5.4089</td>\n",
       "      <td>2.8439</td>\n",
       "    </tr>\n",
       "  </tbody>\n",
       "</table>\n",
       "</div>"
      ],
      "text/plain": [
       "     hkl  bandgap      IP      EA\n",
       "0  (010)    2.858  4.9292  2.0712\n",
       "1  (100)    1.687  5.7898  4.1028\n",
       "2  (101)    1.207  5.4068  4.1998\n",
       "3  (102)    0.050  5.7843  5.7343\n",
       "4  (110)    2.430  5.0702  2.6402\n",
       "5  (112)    1.802  5.7453  3.9433\n",
       "6  (211)    2.565  5.4089  2.8439"
      ]
     },
     "execution_count": 67,
     "metadata": {},
     "output_type": "execute_result"
    }
   ],
   "source": [
    "LTC_ipea = pd.read_csv('LTC_IP_EA.csv')\n",
    "LTC_ipea"
   ]
  },
  {
   "cell_type": "code",
   "execution_count": null,
   "metadata": {},
   "outputs": [],
   "source": []
  }
 ],
 "metadata": {
  "kernelspec": {
   "display_name": "Python 3",
   "language": "python",
   "name": "python3"
  },
  "language_info": {
   "codemirror_mode": {
    "name": "ipython",
    "version": 3
   },
   "file_extension": ".py",
   "mimetype": "text/x-python",
   "name": "python",
   "nbconvert_exporter": "python",
   "pygments_lexer": "ipython3",
   "version": "3.7.7"
  },
  "toc-autonumbering": false
 },
 "nbformat": 4,
 "nbformat_minor": 4
}
